{
 "cells": [
  {
   "cell_type": "code",
   "execution_count": null,
   "id": "9a38e836-434b-41da-983e-e7f0e04a631d",
   "metadata": {},
   "outputs": [],
   "source": [
    "# Question 1. What is a random variable in probability theory ? \n",
    "''' Ans=> Is a function that assigns a real value to each outcome in the sample space of a random experiment. It serves as a numerical description of \n",
    "          the outcome of a statistical experiment. A random variable can be either discrete, assuming only specified values in an interval, or \n",
    "          continuous, assuming any value in some interval on the real number line.\n",
    "\n",
    "         For example, the number of heads obtained when tossing two unbiased coins can be represented as a random variable, where the possible values are 0, 1, or 2."
   ]
  },
  {
   "cell_type": "code",
   "execution_count": null,
   "id": "2b5cba86-9f71-4a56-80be-3f412f2dff9a",
   "metadata": {},
   "outputs": [],
   "source": [
    "# Question 2. What are the types of random variables ? \n",
    "''' Ans=>  The most common classification includes discrete random variables, continuous random variables, and mixed random variables.\n",
    "\n",
    "        1. A discrete random variable is one that can take on only a countable number of distinct values, such as integers. Examples include the number of \n",
    "           children in a family or the number of patients in a doctor's surgery.\n",
    "        \n",
    "        2. A continuous random variable, on the other hand, can take on any value within a certain interval of real numbers. For instance, the height of \n",
    "           different people in a given population set is a continuous random variable.Continuous random variables have a range in the forms of some interval, \n",
    "           bounded or unbounded, of the real line.\n",
    "         \n",
    "        3. Mixed random variables are a combination of discrete and continuous random variables. Their cumulative distribution function is neither discrete \n",
    "            nor everywhere-continuous. They can be realized as a mixture of a discrete random variable and a continuous random variable. "
   ]
  },
  {
   "cell_type": "code",
   "execution_count": null,
   "id": "dc49ea9b-7f30-49ae-818c-5c433be62de5",
   "metadata": {},
   "outputs": [],
   "source": [
    "# Question 3. What is the difference between discrete and continuous distributions ? \n",
    "''' Ans=> 1. DISCRETE DISTRIBUTION  \n",
    "              Discrete uniform distribution is a kind of probability distribution in which every possible result has equal likelihood of occurrence. \n",
    "              When there are limited possibilities and every one of them is equally likely, this distribution is applied.\n",
    "             Examples of discrete uniform distribution are:\n",
    "\n",
    "            * Rolling a Fair Die\n",
    "            * Drawing a Card from a Deck\n",
    "            * Choosing a Random Day of the Week\n",
    "            \n",
    "          The properties of discrete uniform distribution are:\n",
    "            \n",
    "            1.Equal Probability: Each outcome has an equal chance of occurring.\n",
    "            2.Finite Set of Outcomes: The possible outcomes are discrete and finite.\n",
    "            3.Uniformity: The probability mass function (PMF) is constant over the range of possible outcomes.\n",
    "\n",
    "            FORMULA \n",
    "            .Probability Density Function/ Probability Mass Function\n",
    "              P(X=x)= 1/n for x=x1​,x2​,...,xn \n",
    "            \n",
    "            Cumulative Distribution Function\n",
    "             F(x)=Number of outcomes ≤ x/n​\n",
    "\n",
    "         2. CONTINUOUS DISTRIBUTION \n",
    "            Continuous uniform distribution is a probability distribution in which all outcomes are equally likely within a specified \n",
    "             interval [a,b]. In other words, the probability density function (PDF) is constant over this interval, and the distribution\n",
    "              is defined by the two parameters a and b, which are the lower and upper bounds, respectively.\n",
    "            The total area under the probability density function (PDF) curve for a continuous distribution is equal to 1.\n",
    "            Examples of continuous distributions include normal, uniform, and exponential distributions.\n",
    "\n",
    "        Examples of continuous uniform distribution are:\n",
    "        \n",
    "        * Random Time of Day\n",
    "        * Random Position on a Line Segment\n",
    "\n",
    "        The properties of continuous uniform distribution are:\n",
    "        \n",
    "        1.Symmetry: The distribution is perfectly symmetric about the mean.\n",
    "        2.Bell-shaped Curve: The shape of the normal distribution is often referred to as a \"bell curve\".\n",
    "        3.Mean, Median, and Mode: In a normal distribution, the mean, median, and mode are all equal and located at the center of the distribution.\n",
    "        \n",
    "        FORMULA\n",
    "        Probability Density Function/ Probability Mass Function\n",
    "        f(x)= 1​/(b-a) for a ≤ x ≤ b"
   ]
  },
  {
   "cell_type": "code",
   "execution_count": null,
   "id": "c521760a-dee9-491f-90a9-b9c66b5116d3",
   "metadata": {},
   "outputs": [],
   "source": [
    "# Question 4. What are probability distribution functions (PDF) ? \n",
    "''' Ans=> Probability Distribution refers to the function that gives the probability of all possible values of a random variable.\n",
    "          It shows how the probabilities are assigned to the different possible values of the random variable.\n",
    "\n",
    "          A Probability Distribution Function (PDF) is a mathematical function that describes the likelihood of different outcomes in\n",
    "           a random experiment. For any random variable X, where its value is evaluated at the points 'x', then the probability \n",
    "           distribution function gives the probability that X takes the value less than equal to x.\n",
    "           \n",
    "         We represent the probability distribution as, F(x) = P (X ≤ x)"
   ]
  },
  {
   "cell_type": "code",
   "execution_count": null,
   "id": "d0ec5e47-a720-4dc0-8cef-8dc5139a6df0",
   "metadata": {},
   "outputs": [],
   "source": [
    "# Question 5. How do cumulative distribution functions (CDF) differ from probability distribution functions (PDF) ? \n",
    "''' Ans=> The cumulative distribution function (CDF) and the probability distribution function (PDF) are both essential concepts in \n",
    "           probability theory and statistics, but they serve different purposes and have distinct characteristics.\n",
    "\n",
    "        The PDF is used for continuous random variables, where the probability is distributed over an infinite range of values. \n",
    "          It describes the probability density at a particular point on the continuous distribution curve, indicating how the\n",
    "           probability is spread across different values.\n",
    "         For example, the PDF can be used to find the probability density for a specific value in a continuous distribution.\n",
    "\n",
    "        The PDF provides the probability density at a particular point, while the CDF gives the cumulative probability up to a specific value."
   ]
  },
  {
   "cell_type": "code",
   "execution_count": null,
   "id": "f7e1cdb5-3745-4be0-ae1b-e1d3ed895d18",
   "metadata": {},
   "outputs": [],
   "source": [
    "# Question 6. What is a discrete uniform distribution ? \n",
    "''' Ans=> A discrete uniform distribution is a type of probability distribution where each of the possible outcomes has an equal likelihood of occurring.\n",
    "          This distribution is characterized by a finite set of outcomes, and each outcome has the same probability. \n",
    "          For example, when rolling a fair six-sided die, each number from 1 to 6 has an equal probability of 1/6 of being rolled.\n",
    "         In a discrete uniform distribution, the probability mass function (PMF) is constant over the range of possible outcomes, meaning that each \n",
    "           outcome is equally likely.\n",
    "         This distribution is often used in scenarios where there are a limited number of possible results, and each result is equally probable.\n",
    " "
   ]
  },
  {
   "cell_type": "code",
   "execution_count": null,
   "id": "db0e881a-466d-4bd9-9d8f-ba2595326a4d",
   "metadata": {},
   "outputs": [],
   "source": [
    "# Question 7. What are the key properties of a Bernoulli distribution ? \n",
    "''' Ans=> Properties of Bernoulli Distribution\n",
    "   1. Binary Outcomes: Bernoulli Distribution models situations with only two possible outcomes, such as success (1) and failure (0).   \n",
    "   2. Constant Probability: The probability of success (p) remains consistent across all trials in a Bernoulli Distribution   \n",
    "   3. Independent Trials: The outcome of each trial is not influenced by subsequent trials.  \n",
    "   4. Complementary Probability: The probability of failure (q) can be found by subtracting the probability of success (p) from 1; q = 1-p.  \n",
    "   5. Discrete Probability Distribution: Bernoulli Distribution involves a finite number of different outcomes that make it a discrete distribution.   \n",
    "   6. Expected Value (Mean): The mean of a Bernoulli Distribution is equal to the probability of success (p), representing the average outcome.   \n",
    "   7. Variance: Variance (pq) measures how outcomes deviate from the mean in a Bernoulli Distribution.\n",
    "\n",
    "''' "
   ]
  },
  {
   "cell_type": "code",
   "execution_count": null,
   "id": "fc65cbbc-5f17-4349-b406-920cfa42208f",
   "metadata": {},
   "outputs": [],
   "source": [
    "# Question 8.What is the binomial distribution, and how is it used in probability ? \n",
    "''' Ans=> Binomial Distribution is a probability distribution used to model the number of successes in a fixed number of independent trials,\n",
    "           where each trial has only two possible outcomes: success or failure. This distribution is useful for calculating the probability of a \n",
    "            specific number of successes in scenarios like flipping coins, quality control, or survey predictions. \n",
    "         Binomial Distribution is based on Bernoulli trials, where each trial has an independent and identical chance of success. The probability \n",
    "          distribution for a Bernoulli trial is called the Bernoulli Distribution. \n",
    "         '''"
   ]
  },
  {
   "cell_type": "code",
   "execution_count": null,
   "id": "8b1249fe-7c6e-43e7-b86b-7cd8152289d9",
   "metadata": {},
   "outputs": [],
   "source": [
    "# Question 9. What is the Poisson distribution and where is it applied ? \n",
    "''' Ans=> The Poisson distribution is a discrete probability distribution that models the number of events occurring in a fixed interval of time or\n",
    "           space, given a known constant mean rate and independence between events.\n",
    "         It is characterized by a single parameter, λ (lambda), which represents the average number of events in the interval.\n",
    "         The Poisson distribution is applicable in scenarios where events are rare, independent, and occur at a constant average rate. \n",
    "\n",
    "          The Poisson distribution has various applications across different fields. In finance, it is used to model the probability of trading events, \n",
    "           price ranges, or market jumps. \n",
    " "
   ]
  },
  {
   "cell_type": "code",
   "execution_count": null,
   "id": "c2b20213-44ef-4f09-8264-99ed2a3ae535",
   "metadata": {},
   "outputs": [],
   "source": [
    "# Question 10.What is a continuous uniform distribution ? \n",
    "''' Ans=> A continuous uniform distribution is a type of probability distribution where all outcomes within a specified interval are equally likely to \n",
    "           occur. It is also known as a rectangular distribution because the probability density function (PDF) is constant within the interval [a, b], \n",
    "            where a is the minimum value and b is the maximum value. \n",
    "          The PDF is given by f(x)= 1 /(b−a) for a≤x≤b, indicating that every value within the interval has an equal probability of occurring. \n",
    "           Unlike discrete uniform distributions, which have a finite number of outcomes, continuous uniform distributions have an infinite number of\n",
    "            possible outcomes within the interval.\n",
    "           The total area under the PDF curve is 1, representing the total probability.''' "
   ]
  },
  {
   "cell_type": "code",
   "execution_count": null,
   "id": "99fa1063-fe52-4c69-a055-e1e2cc7846cc",
   "metadata": {},
   "outputs": [],
   "source": [
    "# Question 11. What are the characteristics of a normal distribution ? \n",
    "''' Ans=> Normal Distribution Characteristics\n",
    "        1.Symmetry: The normal distribution is symmetric around its mean. This means the left side of the distribution mirrors the right side.\n",
    "        2.Mean, Median, and Mode: In a normal distribution, the mean, median, and mode are all equal and located at the center of the distribution.\n",
    "        3.Bell-shaped Curve: The curve is bell-shaped, indicating that most of the observations cluster around the central peak and the probabilities \n",
    "            for values further away from the mean taper off equally in both directions.\n",
    "        4.Standard Deviation: The spread of the distribution is determined by the standard deviation. About 68% of the data falls within one standard \n",
    "            deviation of the mean, 95% within two standard deviations, and 99.7% within three standard deviations. \n",
    "\n"
   ]
  },
  {
   "cell_type": "code",
   "execution_count": null,
   "id": "3de409e5-9cac-4bee-ad3c-0645970d49dd",
   "metadata": {},
   "outputs": [],
   "source": [
    "# Question 12. What is the standard normal distribution, and why is it important ? \n",
    "''' Ans=> The standard normal distribution is a type of normal distribution where the mean is 0 and the standard deviation is 1.\n",
    "         It is also called the z-distribution and is used to standardize any normal distribution by converting its values into z scores, which indicate \n",
    "          how many standard deviations from the mean each value lies.\n",
    "         This allows for the calculation of probabilities and comparison of different data sets. The standard normal distribution is important in \n",
    "           statistics because it simplifies calculations and is widely used in hypothesis testing and the central limit theorem. '''\n"
   ]
  },
  {
   "cell_type": "code",
   "execution_count": null,
   "id": "00535217-3770-4b79-9646-d7a1fd698574",
   "metadata": {},
   "outputs": [],
   "source": [
    "# Question 13. What is the Central Limit Theorem (CLT), and why is it critical in statistics ? \n",
    "''' Ans=> The Central Limit Theorem (CLT) is a fundamental concept in statistics that states that, under certain conditions, the distribution of the \n",
    "          sample mean will approach a normal distribution as the sample size increases, regardless of the population's distribution.\n",
    "           This theorem is critical in statistics for two main reasons: the normality assumption and the precision of the estimates.\n",
    "           The CLT allows statisticians to make inferences about population parameters using sample data, even when the population distribution is not \n",
    "            normal. It also provides a basis for hypothesis testing and confidence interval estimation."
   ]
  },
  {
   "cell_type": "code",
   "execution_count": null,
   "id": "cb407e62-5a2f-49be-a3f4-ea4cb5bb9ab8",
   "metadata": {},
   "outputs": [],
   "source": [
    "# Question 14. How does the Central Limit Theorem relate to the normal distribution ? \n",
    "''' Ans=> The Central Limit Theorem (CLT) states that the sampling distribution of the sample means approaches a normal distribution as the sample size \n",
    "            increases, regardless of the shape of the population distribution.\n",
    "         This means that even if the original variables are not normally distributed, the distribution of the sample mean will converge to a normal \n",
    "           distribution under certain conditions.\n",
    "         The theorem is particularly useful because it allows statisticians to assume normality for large samples, facilitating easier statistical\n",
    "          analysis and inference.\n",
    "         The CLT is a fundamental concept in probability theory and statistics, as it justifies the use of normal distribution-based methods for a wide \n",
    "          range of problems. ''' \n"
   ]
  },
  {
   "cell_type": "code",
   "execution_count": null,
   "id": "df7ed1bd-be58-44c8-bf6d-f186e12f44f2",
   "metadata": {},
   "outputs": [],
   "source": [
    "# Question 15. What is the application of Z statistics in hypothesis testing ? \n",
    "''' Ans=> Z Statistics in Hypothesis Testing\n",
    "        Z statistics are used in hypothesis testing to determine whether there is a significant difference between the means of two populations or \n",
    "          between a sample mean and a population mean. This is done by comparing the calculated z statistic to a critical value from the standard normal \n",
    "           distribution.\n",
    "        A z test is appropriate when the population variance is known and the sample size is large (typically 30 or more data points).\n",
    "        The z statistic helps in deciding whether to reject the null hypothesis, which states that there is no significant difference between the means, \n",
    "          or to fail to reject it.\n",
    "         ''' \n"
   ]
  },
  {
   "cell_type": "code",
   "execution_count": null,
   "id": "d0547e4f-a4c6-477e-9d51-304599090170",
   "metadata": {},
   "outputs": [],
   "source": [
    "# Question 16. How do you calculate a Z-score, and what does it represent ? \n",
    "''' Ans=> To calculate a Z-score, you subtract the population mean (μ) from the raw score (x) and then divide the result by the population standard \n",
    "           deviation (σ).\n",
    "          The formula for the Z-score is: Z= x−μ /σ . his process standardizes the raw score, allowing it to be compared to other scores from different\n",
    "            distributions.\n",
    "\n",
    "           A Z-score represents the number of standard deviations a data point is away from the mean of its distribution.\n",
    "           It indicates how far a particular data point is from the mean in terms of standard deviations. A positive Z-score means the data point is\n",
    "              above the mean, while a negative Z-score means it is below the mean.\n",
    "            For example, a Z-score of 2 means the data point is two standard deviations above the mean.\n",
    "             "
   ]
  },
  {
   "cell_type": "code",
   "execution_count": null,
   "id": "b367261f-7eb8-431e-a34f-1c97ff7601bd",
   "metadata": {},
   "outputs": [],
   "source": [
    "# Question 17. What are point estimates and interval estimates in statistics ?  \n",
    "''' Ans=> n statistics, point estimates and interval estimates are two methods used to estimate unknown population parameters.  \n",
    "        1. A point estimate provides a single, specific value as the best guess for a parameter, such as using the sample mean to estimate a population \n",
    "            mean.\n",
    "         For example, the sample mean is a point estimate of the population mean. \n",
    "\n",
    "        2. Interval estimation refers to the statistical technique used to estimate a population parameter by calculating an interval within which the\n",
    "             parameter is expected to fall with the specified level of confidence. This interval is known as the confidence interval. The width of the \n",
    "             interval reflects the precision of the estimate: narrower intervals indicate the more precise estimates while wider intervals suggest the \n",
    "              greater uncertainty."
   ]
  },
  {
   "cell_type": "code",
   "execution_count": null,
   "id": "fa113352-a533-4925-997b-85c7ecc0e411",
   "metadata": {},
   "outputs": [],
   "source": [
    "# Question 18. What is the significance of confidence intervals in statistical analysis ? \n",
    "''' Ans=> Confidence intervals are significant in statistical analysis as they provide a range of values that likely contains an unknown population \n",
    "           parameter, conveying the uncertainty associated with a sampling method.\n",
    "         They allow analysts to understand the likelihood that the results from statistical analyses are real or due to chance, offering a way to assess\n",
    "           the reliability of findings.\n",
    "         Confidence intervals also help in making informed decisions by indicating the precision of measurements and the potential variability of results ''' \n"
   ]
  },
  {
   "cell_type": "code",
   "execution_count": null,
   "id": "47f7b9f8-2452-44a9-8b9c-8a1c5ffffb41",
   "metadata": {},
   "outputs": [],
   "source": [
    "# Question 19. What is the relationship between a Z-score and a confidence interval ? \n",
    "''' Ans=> The Z-score plays a crucial role in constructing confidence intervals. A confidence interval provides a range of values that is likely to\n",
    "           contain the true population parameter, and the Z-score is used to determine the critical value for this interval.\n",
    "         Higher confidence levels require larger Z-scores, resulting in wider intervals. This reflects a trade-off between confidence and precision: \n",
    "           higher confidence levels offer greater assurance that the interval contains the population parameter but at the cost of less precise estimates.\n",
    "         The Z-score measures how many standard deviations an observation deviates from the mean, which is essential when calculating the margin of error\n",
    "           for the confidence interval.\n",
    "         For example, a 95% confidence interval uses a Z-score of 1.96, while a 90% confidence interval uses a Z-score of 1.645."
   ]
  },
  {
   "cell_type": "code",
   "execution_count": null,
   "id": "543f9b4b-095d-4390-9669-063bc0b602f0",
   "metadata": {},
   "outputs": [],
   "source": [
    "# Questionn 20.  How are Z-scores used to compare different distributions ? \n",
    "''' Ans=> Z-scores are used to compare different distributions by standardizing the values within each distribution, allowing for a common scale. \n",
    "          This standardization process involves calculating how many standard deviations a particular data point is from the mean of its distribution.\n",
    "        By converting raw scores into z-scores, we can compare data points from different distributions and determine their relative standing within \n",
    "          their respective distributions.\n",
    "\n",
    "         For example, consider two exams with different means and standard deviations. If DON scores 84 on an exam with a mean of 80 and a standard\n",
    "             deviation of 4, his z-score would be 1. On another exam with a mean of 85 and a standard deviation of 8, Debbie scores 90, resulting in\n",
    "              a z-score of 0.625. Although MONU score is higher, Duane's score is relatively higher within his distribution.\n",
    "\n",
    "        Z-scores are particularly useful because they take into account the mean and standard deviations of distributions, which allows for the \n",
    "           comparison of data values from different distributions and identifying which one is higher relative to their own distributions.\n",
    "         This makes z-scores a valuable tool for comparing the relative standing of two data points from two different distributions.\n",
    "         "
   ]
  },
  {
   "cell_type": "code",
   "execution_count": null,
   "id": "f58135cd-3809-4371-a355-9adba1a98196",
   "metadata": {},
   "outputs": [],
   "source": [
    "# Question 21. What are the assumptions for applying the Central Limit Theorem ? \n",
    "''' Ans=>  Assumptions of the Central Limit Theorem\n",
    "            The Central Limit Theorem is valid for the following conditions:\n",
    "            \n",
    "            1.The drawing of the sample from the population should be random.\n",
    "            2.The drawing of the sample should be independent of each other.\n",
    "            3.The sample size should not exceed ten percent of the total population when sampling is done without replacement.\n",
    "            4.Sample Size should be adequately large.\n",
    "            5.CLT only holds for a population with finite variance.'''                                    \n",
    "                                        "
   ]
  },
  {
   "cell_type": "code",
   "execution_count": null,
   "id": "30b89d87-1fdd-4b89-bfa8-aa661758be53",
   "metadata": {},
   "outputs": [],
   "source": [
    "# Question 22. What is the concept of expected value in a probability distribution ? \n",
    "''' Ans=> The concept of expected value in a probability distribution refers to the long-term average value of a random variable based on its probability\n",
    "           distribution. It is essentially the weighted average of all possible values, where each value is weighted by its corresponding probability.\n",
    "         In other words, the expected value represents the mean of the distribution and is calculated by summing the products of each possible value and \n",
    "            its associated probability. \n",
    "        \n",
    "         For example, in a discrete probability distribution, the expected value is calculated as E(X) = ∑x∈S x⋅P(X=x) where x represents the possible \n",
    "            values of the random variable and P(X=x) is the probability of each value occurring.\n",
    "          In the case of continuous distributions, the expected value is determined through integration over the range of possible outcomes.\n",
    "        \n",
    "         The expected value is also known as the mean, expectation, or first moment of a distribution and is a fundamental concept in probability theory \n",
    "           and statistics. "
   ]
  },
  {
   "cell_type": "code",
   "execution_count": null,
   "id": "e387a7bd-c115-4a41-9c06-2c580666f054",
   "metadata": {},
   "outputs": [],
   "source": [
    "# Question 23. How does a probability distribution relate to the expected outcome of a random variable ? \n",
    "''' Ans=> A probability distribution is a mathematical function or rule that describes how the probabilities of different outcomes are assigned to the\n",
    "         possible values of a random variable. It provides a way of modeling the likelihood of each outcome in a random experiment. \n",
    "         how to describe the behavior of a random variable\n",
    "        Suppose that our Random Variable only takes finite values, like x1, x2, x3,..., and xn. i.e., the range of X is the set of n values is {x1, x2, x3,..., and xn}.\n",
    "        Thus, the behavior of X is completely described by giving probabilities for all the values of the random variable X\n",
    "        \n",
    "        Event\tProbability\n",
    "        x1\tP(X = x1)\n",
    "        x2\tP(X = x2)\n",
    "        x3\tP(X = x3)\n",
    "        \n",
    "        The Probability Function of a discrete random variable X is the function p(x) satisfying.\n",
    "        \n",
    "        P(x) = P(X = x)"
   ]
  },
  {
   "cell_type": "code",
   "execution_count": null,
   "id": "e9334490-4ed4-4f44-9a1b-03be351f316f",
   "metadata": {},
   "outputs": [],
   "source": []
  },
  {
   "cell_type": "code",
   "execution_count": null,
   "id": "25c3b97f-79ec-41bb-b5c7-dfabcefee570",
   "metadata": {},
   "outputs": [],
   "source": []
  },
  {
   "cell_type": "code",
   "execution_count": null,
   "id": "b9230cd9-577e-4e29-acfe-9c393aade101",
   "metadata": {},
   "outputs": [],
   "source": []
  }
 ],
 "metadata": {
  "kernelspec": {
   "display_name": "Python [conda env:base] *",
   "language": "python",
   "name": "conda-base-py"
  },
  "language_info": {
   "codemirror_mode": {
    "name": "ipython",
    "version": 3
   },
   "file_extension": ".py",
   "mimetype": "text/x-python",
   "name": "python",
   "nbconvert_exporter": "python",
   "pygments_lexer": "ipython3",
   "version": "3.12.7"
  }
 },
 "nbformat": 4,
 "nbformat_minor": 5
}
